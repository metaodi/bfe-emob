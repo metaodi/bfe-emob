{
 "cells": [
  {
   "cell_type": "code",
   "execution_count": null,
   "id": "6809f10d",
   "metadata": {},
   "outputs": [],
   "source": [
    "import pandas as pd\n",
    "import json\n",
    "import os\n",
    "\n",
    "from lib.git_history import iterate_file_versions"
   ]
  },
  {
   "cell_type": "code",
   "execution_count": null,
   "id": "a78ef1e1",
   "metadata": {},
   "outputs": [],
   "source": [
    "input_file = os.path.join(\"data\", \"ch.bfe.ladestellen-elektromobilitaet-status.json\")\n",
    "output = os.path.join(\"data_cache\")\n",
    "\n",
    "status_recs = []\n",
    "for i, git_commit_at, git_hash, content in iterate_file_versions(input_file):\n",
    "    versioned_json = json.loads(content)\n",
    "    timestamp = git_commit_at.isoformat()\n",
    "\n",
    "    for operator in versioned_json.get(\"EVSEStatuses\", []):\n",
    "        operator_id = operator.get(\"OperatorID\", \"\")\n",
    "        operator_name = operator.get(\"OperatorName\", \"\")\n",
    "\n",
    "        for evse in operator.get(\"EVSEStatusRecord\", []):\n",
    "            evse_id = evse.get(\"EvseID\", \"\")\n",
    "            evse_status = evse.get(\"EVSEStatus\", \"\")\n",
    "\n",
    "            status_rec = {\n",
    "                \"Timestamp\": timestamp,\n",
    "                \"OperatorID\": operator_id,\n",
    "                \"OperatorName\": operator_name,\n",
    "                \"EvseID\": evse_id,\n",
    "                \"EVSEStatus\": evse_status\n",
    "            }\n",
    "            status_recs.append(status_rec)\n",
    "\n",
    "    # save every 10 versions as a pickle file\n",
    "    if (i % 10) == 0:\n",
    "        df_rec = df = pd.DataFrame(status_recs)\n",
    "        df_rec[\"Timestamp\"] = pd.to_datetime(df_rec[\"Timestamp\"], utc=True)\n",
    "        pickle_path = os.path.join(\"data_cache\", f\"{i}_{git_hash}.pks\")\n",
    "        df_rec.to_pickle(pickle_path)\n",
    "        print(f\"Saved pickle at {pickle_path}\")\n",
    "        status_recs = []"
   ]
  },
  {
   "cell_type": "code",
   "execution_count": null,
   "id": "9b62f21d",
   "metadata": {},
   "outputs": [],
   "source": [
    "# Combine pickle files to one dataframe\n",
    "df_records = pd.concat(\n",
    "    [pd.read_pickle(os.path.join(\"data_cache\", x)) for x in os.listdir(\"data_cache\") if x.endswith(\".pks\")]\n",
    ")\n",
    "\n",
    "df_records"
   ]
  },
  {
   "cell_type": "code",
   "execution_count": null,
   "id": "af555f15",
   "metadata": {},
   "outputs": [],
   "source": []
  }
 ],
 "metadata": {
  "kernelspec": {
   "display_name": "bfe-emob (3.11.5)",
   "language": "python",
   "name": "python3"
  },
  "language_info": {
   "codemirror_mode": {
    "name": "ipython",
    "version": 3
   },
   "file_extension": ".py",
   "mimetype": "text/x-python",
   "name": "python",
   "nbconvert_exporter": "python",
   "pygments_lexer": "ipython3",
   "version": "3.11.5"
  }
 },
 "nbformat": 4,
 "nbformat_minor": 5
}
